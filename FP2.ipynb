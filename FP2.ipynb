{
 "cells": [
  {
   "cell_type": "markdown",
   "metadata": {},
   "source": [
    "<h3>FP2 Dataset</h3>"
   ]
  },
  {
   "cell_type": "markdown",
   "metadata": {},
   "source": [
    "#### Two sources of data for each company:\n",
    "<ol>\n",
    "    <li>Text fom their financial reports</li>\n",
    "    <li>Time series of their stock price, volume, etc</li>\n",
    "</ol>"
   ]
  },
  {
   "cell_type": "markdown",
   "metadata": {},
   "source": [
    "### Tickers"
   ]
  },
  {
   "cell_type": "code",
   "execution_count": 293,
   "metadata": {},
   "outputs": [],
   "source": [
    "import re\n",
    "import requests as req\n",
    "\n",
    "CIK_TICKER = {}\n",
    "# Creates a dictionary mapping cik to tickers\n",
    "# using scraped sec data\n",
    "def createTickerDict():\n",
    "    r = req.get('https://www.sec.gov/include/ticker.txt',stream=True)\n",
    "    for line in r.iter_lines():\n",
    "        file_line = line.decode(\"utf-8\").split(\"\\t\")\n",
    "        CIK_TICKER[file_line[1]] = file_line[0]\n",
    "createTickerDict()"
   ]
  },
  {
   "cell_type": "markdown",
   "metadata": {},
   "source": [
    "### Prices"
   ]
  },
  {
   "cell_type": "markdown",
   "metadata": {},
   "source": [
    "Full URL: https://api.koyfin.com/api/v2/commands/g/g.eq/AMZN?dateFrom=1900-10-15&dateTo=2020-10-30&period=daily\n",
    "\n",
    "Base URL: https://api.koyfin.com/api/v2/commands/g/g.eq/\n",
    "\n",
    "ticker + \"?dateFrom=\" + Year-month-day + \"&dateTo=\" + Year-month-day + \"&period=daily\""
   ]
  },
  {
   "cell_type": "code",
   "execution_count": 294,
   "metadata": {},
   "outputs": [],
   "source": [
    "# Return json dictionary of pricing information given valid ticker\n",
    "def request_json(ticker: str) -> dict:\n",
    "    url_base = \"https://api.koyfin.com/api/v2/commands/g/g.eq/\"\n",
    "    \n",
    "    # for some reason ticker such as BRK-A, appears as BRK.A in url\n",
    "    ticker = ticker.replace(\"-\", \".\")\n",
    "    \n",
    "    # start and end date can be changed to get less data\n",
    "    # period = yearly, monthly, weekly, or daily also can be changed\n",
    "    #default_date = \"?dateFrom=1900-10-15&dateTo=2020-10-30&period=monthly\"\n",
    "    default_date = \"?dateFrom=2015-10-15&dateTo=2020-10-30&period=monthly\"\n",
    "    \n",
    "    r = req.get(url_base + ticker + default_date)\n",
    "    #print(\"\\nRequest Response {}\\n\".format(r.status_code)) debugging 404\n",
    "    return r.json()"
   ]
  },
  {
   "cell_type": "code",
   "execution_count": 295,
   "metadata": {},
   "outputs": [],
   "source": [
    "import pandas as pd\n",
    "\n",
    "# given ticker returns dataframe of available pricing info, monthly starting 2015\n",
    "def json_df(ticker: str):\n",
    "    json_data = request_json(ticker)\n",
    "    json_prices = json_data[\"graph\"][\"data\"]\n",
    "    truncated_prices = [date[0:6] for date in json_prices]\n",
    "\n",
    "    column_label = [\"Date\", \"Open\", \"High\", \"Low\", \"Close/Last\", \"Volume\"]\n",
    "\n",
    "    df = pd.DataFrame(truncated_prices, columns=column_label) \n",
    "    df.insert(0,\"Ticker\",\"\")\n",
    "    df[\"Ticker\"] = json_data[\"ticker\"]\n",
    "    return df"
   ]
  },
  {
   "cell_type": "code",
   "execution_count": 298,
   "metadata": {},
   "outputs": [
    {
     "data": {
      "text/html": [
       "<div>\n",
       "<style scoped>\n",
       "    .dataframe tbody tr th:only-of-type {\n",
       "        vertical-align: middle;\n",
       "    }\n",
       "\n",
       "    .dataframe tbody tr th {\n",
       "        vertical-align: top;\n",
       "    }\n",
       "\n",
       "    .dataframe thead th {\n",
       "        text-align: right;\n",
       "    }\n",
       "</style>\n",
       "<table border=\"1\" class=\"dataframe\">\n",
       "  <thead>\n",
       "    <tr style=\"text-align: right;\">\n",
       "      <th></th>\n",
       "      <th>Ticker</th>\n",
       "      <th>Date</th>\n",
       "      <th>Open</th>\n",
       "      <th>High</th>\n",
       "      <th>Low</th>\n",
       "      <th>Close/Last</th>\n",
       "      <th>Volume</th>\n",
       "    </tr>\n",
       "  </thead>\n",
       "  <tbody>\n",
       "    <tr>\n",
       "      <th>0</th>\n",
       "      <td>AAPL</td>\n",
       "      <td>2015-10-30</td>\n",
       "      <td>27.2675</td>\n",
       "      <td>30.3050</td>\n",
       "      <td>26.8275</td>\n",
       "      <td>29.8750</td>\n",
       "      <td>4454815240</td>\n",
       "    </tr>\n",
       "    <tr>\n",
       "      <th>1</th>\n",
       "      <td>AAPL</td>\n",
       "      <td>2015-11-30</td>\n",
       "      <td>29.9675</td>\n",
       "      <td>30.9550</td>\n",
       "      <td>27.7500</td>\n",
       "      <td>29.5750</td>\n",
       "      <td>3002562360</td>\n",
       "    </tr>\n",
       "    <tr>\n",
       "      <th>2</th>\n",
       "      <td>AAPL</td>\n",
       "      <td>2015-12-31</td>\n",
       "      <td>29.6875</td>\n",
       "      <td>29.9650</td>\n",
       "      <td>26.2050</td>\n",
       "      <td>26.3150</td>\n",
       "      <td>3690505120</td>\n",
       "    </tr>\n",
       "    <tr>\n",
       "      <th>3</th>\n",
       "      <td>AAPL</td>\n",
       "      <td>2016-01-29</td>\n",
       "      <td>25.6525</td>\n",
       "      <td>26.4625</td>\n",
       "      <td>23.0975</td>\n",
       "      <td>24.3350</td>\n",
       "      <td>5087392560</td>\n",
       "    </tr>\n",
       "    <tr>\n",
       "      <th>4</th>\n",
       "      <td>AAPL</td>\n",
       "      <td>2016-02-29</td>\n",
       "      <td>24.1175</td>\n",
       "      <td>24.7225</td>\n",
       "      <td>23.1475</td>\n",
       "      <td>24.1725</td>\n",
       "      <td>3243450200</td>\n",
       "    </tr>\n",
       "  </tbody>\n",
       "</table>\n",
       "</div>"
      ],
      "text/plain": [
       "  Ticker        Date     Open     High      Low  Close/Last      Volume\n",
       "0   AAPL  2015-10-30  27.2675  30.3050  26.8275     29.8750  4454815240\n",
       "1   AAPL  2015-11-30  29.9675  30.9550  27.7500     29.5750  3002562360\n",
       "2   AAPL  2015-12-31  29.6875  29.9650  26.2050     26.3150  3690505120\n",
       "3   AAPL  2016-01-29  25.6525  26.4625  23.0975     24.3350  5087392560\n",
       "4   AAPL  2016-02-29  24.1175  24.7225  23.1475     24.1725  3243450200"
      ]
     },
     "execution_count": 298,
     "metadata": {},
     "output_type": "execute_result"
    }
   ],
   "source": [
    "json_df(\"AAPL\").head()"
   ]
  },
  {
   "cell_type": "markdown",
   "metadata": {},
   "source": [
    "### Text of Reports"
   ]
  },
  {
   "cell_type": "code",
   "execution_count": 299,
   "metadata": {},
   "outputs": [],
   "source": [
    "import unicodedata\n",
    "import re\n",
    "from bs4 import BeautifulSoup as BS\n",
    "from xml.dom import minidom  \n",
    "\n",
    "# parsing some reports here takes 20 and more seconds\n",
    "def getStatement(endOfURL: str):\n",
    "    \"\"\"\n",
    "    gets the text in a 10k/10q statement\n",
    "    :param endOfURL: the end of the url to the statement file\n",
    "    : endofURL is found from masterfile\n",
    "    :return: list of text of the statement\n",
    "    \"\"\"\n",
    "    # making the link\n",
    "    base = 'https://www.sec.gov/Archives/'\n",
    "    fullUrl = base + endOfURL\n",
    "    \n",
    "    # souping the site\n",
    "    r = req.get(fullUrl).content.decode(\"latin-1\")\n",
    "    \n",
    "    # uncomment for 20x faster but no parsing and taking up too much RAM\n",
    "    #return r #\n",
    "    \n",
    "    soup = BS(r, 'html.parser')\n",
    "\n",
    "    # filtering the contents of the site\n",
    "    text = []\n",
    "    for x in soup.find_all('p')[:-1]:\n",
    "        elm = BS(str(x), 'html.parser').get_text()\n",
    "\n",
    "        # removing links to references\n",
    "        # still the disclosures at the bottom\n",
    "        if re.search(r'Reference [1-9]: http://', elm):\n",
    "            continue\n",
    "\n",
    "        elm = unicodedata.normalize(\"NFKD\", elm)\n",
    "\n",
    "        # replacing all white space characters for some reason I could not get \\s to work\n",
    "        elm = re.sub(r'[ \\t\\n\\r\\f\\v]', ' ', elm)\n",
    "\n",
    "        # 2 or more spaces get replaced to one space\n",
    "        elm = re.sub(r' {2,}', '', elm)\n",
    "\n",
    "        # if its one string then we dont care\n",
    "        if len(elm) > 1:\n",
    "            text.append(elm)\n",
    "\n",
    "    return text # return as single string, remove join to return as list"
   ]
  },
  {
   "cell_type": "code",
   "execution_count": 302,
   "metadata": {},
   "outputs": [
    {
     "data": {
      "text/plain": [
       "['UNITED STATES ',\n",
       " 'SECURITIES AND EXCHANGE COMMISSION ',\n",
       " 'Washington, D.C. 20549 ',\n",
       " 'Form 10-Q ',\n",
       " '(Mark One) ',\n",
       " 'QUARTERLY REPORT PURSUANT TO SECTION 13 OR 15(d) OF THE SECURITIES EXCHANGE ACT OF 1934 ',\n",
       " 'For the quarterly period ended January 23, 2015 ',\n",
       " 'or ',\n",
       " ' ̈',\n",
       " 'TRANSITION REPORT PURSUANT TO SECTION 13 OR 15(d) OF THE SECURITIES EXCHANGE ACT OF 1934 ',\n",
       " 'For the transition period fromto',\n",
       " 'Commission File Number 000-27130 ',\n",
       " 'NetApp, Inc. ',\n",
       " '(Exact name of registrant as specified in its charter) ',\n",
       " 'Delaware',\n",
       " '77-0307520',\n",
       " '(State or other jurisdiction of',\n",
       " '(I.R.S. Employer',\n",
       " 'incorporation or organization)',\n",
       " 'Identification No.)']"
      ]
     },
     "execution_count": 302,
     "metadata": {},
     "output_type": "execute_result"
    }
   ],
   "source": [
    "# example statement call (truncated)\n",
    "getStatement(\"/edgar/data/1002047/0001564590-15-000944.txt\")[:20]"
   ]
  },
  {
   "cell_type": "code",
   "execution_count": 303,
   "metadata": {},
   "outputs": [],
   "source": [
    "# scrapes the master file as a list of lines from the SEC\n",
    "# containing links to all available financial reports\n",
    "# for a given year and quarter\n",
    "def read_master(year:str, qtr:str) -> list:\n",
    "    lines = []\n",
    "    base_url = 'https://www.sec.gov/Archives/edgar/full-index/'\n",
    "    r = req.get(base_url + year + \"/\" + qtr + \"/master.idx\", stream=True)\n",
    "    \n",
    "    reading = False\n",
    "    for line in r.iter_lines():\n",
    "        if line:\n",
    "            if reading:\n",
    "                line = line.decode(\"latin-1\").split(\"|\")\n",
    "                if line[2] == \"10-Q\" or line[2] == \"10-K\":\n",
    "                    lines.append(line)\n",
    "            # ignore the heading and only read lines after --------... seperator\n",
    "            if str(line).count(\"-\") > 10:\n",
    "                reading = True\n",
    "    return lines"
   ]
  },
  {
   "cell_type": "code",
   "execution_count": 305,
   "metadata": {},
   "outputs": [
    {
     "data": {
      "text/plain": [
       "[['1000045',\n",
       "  'NICHOLAS FINANCIAL INC',\n",
       "  '10-Q',\n",
       "  '2020-02-14',\n",
       "  'edgar/data/1000045/0001564590-20-004703.txt'],\n",
       " ['1000209',\n",
       "  'MEDALLION FINANCIAL CORP',\n",
       "  '10-K',\n",
       "  '2020-03-30',\n",
       "  'edgar/data/1000209/0001564590-20-014310.txt'],\n",
       " ['1000228',\n",
       "  'HENRY SCHEIN INC',\n",
       "  '10-K',\n",
       "  '2020-02-20',\n",
       "  'edgar/data/1000228/0001000228-20-000018.txt'],\n",
       " ['1000229',\n",
       "  'CORE LABORATORIES N V',\n",
       "  '10-K',\n",
       "  '2020-02-10',\n",
       "  'edgar/data/1000229/0001564590-20-004075.txt'],\n",
       " ['1000230',\n",
       "  'OPTICAL CABLE CORP',\n",
       "  '10-K',\n",
       "  '2020-01-27',\n",
       "  'edgar/data/1000230/0001437749-20-001224.txt'],\n",
       " ['1000230',\n",
       "  'OPTICAL CABLE CORP',\n",
       "  '10-Q',\n",
       "  '2020-03-16',\n",
       "  'edgar/data/1000230/0001437749-20-005327.txt'],\n",
       " ['1000232',\n",
       "  'KENTUCKY BANCSHARES INC /KY/',\n",
       "  '10-K',\n",
       "  '2020-03-10',\n",
       "  'edgar/data/1000232/0001558370-20-002327.txt'],\n",
       " ['1000298',\n",
       "  'IMPAC MORTGAGE HOLDINGS INC',\n",
       "  '10-K',\n",
       "  '2020-03-13',\n",
       "  'edgar/data/1000298/0001558370-20-002683.txt'],\n",
       " ['1000623',\n",
       "  'SCHWEITZER MAUDUIT INTERNATIONAL INC',\n",
       "  '10-K',\n",
       "  '2020-03-02',\n",
       "  'edgar/data/1000623/0001000623-20-000048.txt'],\n",
       " ['1000694',\n",
       "  'NOVAVAX INC',\n",
       "  '10-K',\n",
       "  '2020-03-11',\n",
       "  'edgar/data/1000694/0001104659-20-031944.txt']]"
      ]
     },
     "execution_count": 305,
     "metadata": {},
     "output_type": "execute_result"
    }
   ],
   "source": [
    "# example scraping master file (truncated)\n",
    "read_master(\"2020\", \"QTR1\")[:10]"
   ]
  },
  {
   "cell_type": "markdown",
   "metadata": {},
   "source": [
    "### Text of All Reports to DataFrame"
   ]
  },
  {
   "cell_type": "code",
   "execution_count": null,
   "metadata": {},
   "outputs": [
    {
     "name": "stdout",
     "output_type": "stream",
     "text": [
      "Begin 2015, QTR1\n",
      "\tGetting report for NICHOLAS FINANCIAL INC\n",
      "\t\tGetting 10-Q at edgar/data/1000045/0001193125-15-038970.txt\n",
      "\t\tReport Added\n",
      "\tGetting report for MEDALLION FINANCIAL CORP\n",
      "\t\tGetting 10-K at edgar/data/1000209/0001193125-15-087622.txt\n"
     ]
    }
   ],
   "source": [
    "import time\n",
    "\n",
    "# take all available reports from 2015-2020 from all 4q\n",
    "YEARS = ['2015', '2016', '2017', '2018', '2019', '2020']\n",
    "QTRS = ['QTR1', 'QTR2', 'QTR3', 'QTR4']\n",
    "\n",
    "df = pd.DataFrame(columns = [\"Ticker\", \"ReportDate\", \"ReportType\", \"Text\"])\n",
    "\n",
    "for yr in YEARS:\n",
    "    for q in QTRS:\n",
    "        print(\"Begin {}, {}\".format(yr, q))\n",
    "        reports = read_master(yr, q)\n",
    "        #ex. [\"1192448\", \"GLAUKOS Corp\", \"10-K\", \"2019-04-03\", \"edgar/data/1192448/0001104659-19-019728.txt\"]\n",
    "        for report in reports:\n",
    "            report_type = report[2]\n",
    "            # filter the reports we want (there are ALOT)\n",
    "            if (report_type == \"10-Q\" or report_type == \"10-K\"):\n",
    "                report_url = report[4]\n",
    "                report_date = report[3]\n",
    "                company_name = report[1]\n",
    "                cik = report[0]\n",
    "                \n",
    "                # arbitrary cik limit to limit how many companies are chosen\n",
    "                if CIK_TICKER.get(cik) != None and int(cik) < 1100682:\n",
    "                    print(\"\\tGetting report for {}\".format(company_name))\n",
    "                    ticker = CIK_TICKER[cik]\n",
    "                    \n",
    "                    time.sleep(.2) # avoid rate limit?\n",
    "                    print(\"\\t\\tGetting {} at {}\".format(report_type, report_url))\n",
    "                    text = getStatement(report_url)\n",
    "                    \n",
    "                    df = df.append({\"Ticker\":ticker.upper(), \"ReportDate\":report_date,\n",
    "                               \"ReportType\": report_type, \"Text\": text}, ignore_index=True)\n",
    "                    print(\"\\t\\tReport Added\")\n",
    "df"
   ]
  },
  {
   "cell_type": "code",
   "execution_count": null,
   "metadata": {},
   "outputs": [],
   "source": [
    "df"
   ]
  },
  {
   "cell_type": "code",
   "execution_count": null,
   "metadata": {},
   "outputs": [],
   "source": [
    "df.to_csv(\"reports.csv\")"
   ]
  }
 ],
 "metadata": {
  "kernelspec": {
   "display_name": "Python 3",
   "language": "python",
   "name": "python3"
  },
  "language_info": {
   "codemirror_mode": {
    "name": "ipython",
    "version": 3
   },
   "file_extension": ".py",
   "mimetype": "text/x-python",
   "name": "python",
   "nbconvert_exporter": "python",
   "pygments_lexer": "ipython3",
   "version": "3.8.2"
  }
 },
 "nbformat": 4,
 "nbformat_minor": 4
}
